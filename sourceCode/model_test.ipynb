{
 "cells": [
  {
   "cell_type": "code",
   "execution_count": 11,
   "id": "f5e007c3",
   "metadata": {},
   "outputs": [],
   "source": [
    "import pandas as pd\n",
    "import pickle\n",
    "import numpy as np\n",
    "import os"
   ]
  },
  {
   "cell_type": "code",
   "execution_count": 12,
   "id": "44e11de5",
   "metadata": {},
   "outputs": [
    {
     "data": {
      "text/plain": [
       "'c:\\\\Users\\\\Multimatics\\\\Documents\\\\halalina-ml\\\\sourceCode'"
      ]
     },
     "execution_count": 12,
     "metadata": {},
     "output_type": "execute_result"
    }
   ],
   "source": [
    "os.getcwd()"
   ]
  },
  {
   "cell_type": "code",
   "execution_count": 13,
   "id": "85410c49",
   "metadata": {},
   "outputs": [
    {
     "name": "stdout",
     "output_type": "stream",
     "text": [
      "🎯 Prediksi Klaster untuk Data Baru: [2]\n",
      "🎯 Confidence Score masing - masing Klaster untuk Data Baru: [[0.01332632 0.02237578 0.9642979 ]]\n"
     ]
    }
   ],
   "source": [
    "# Load model terbaik (pipeline lengkap) dari file\n",
    "with open('c:/Users/Multimatics/Documents/halalina-ml/model/best_random_forest_model.pkl', 'rb') as file:\n",
    "    loaded_model = pickle.load(file)\n",
    "\n",
    "# Data baru sebagai DataFrame (pastikan kolom sama seperti X saat training)\n",
    "new_data = pd.DataFrame([{\n",
    "    'job': 'white-collar',\n",
    "    'marital': 'married',\n",
    "    'balance': 15000000000,\n",
    "    'age_group': 'gen_x',\n",
    "    'is_having_debt': 2\n",
    "}])\n",
    "\n",
    "# Lakukan prediksi\n",
    "prediction = loaded_model.predict(new_data)\n",
    "\n",
    "# Jika ingin probabilitas per kelas\n",
    "proba = loaded_model.predict_proba(new_data)\n",
    "\n",
    "print(f\"🎯 Prediksi Klaster untuk Data Baru: {prediction}\")\n",
    "print(f\"🎯 Confidence Score masing - masing Klaster untuk Data Baru: {proba}\")"
   ]
  },
  {
   "cell_type": "code",
   "execution_count": null,
   "id": "8277c0dd",
   "metadata": {},
   "outputs": [
    {
     "name": "stdout",
     "output_type": "stream",
     "text": [
      "🎯 Prediksi Klaster: 2\n",
      "🧠 Profil Risiko Dominan: Defensif\n",
      "📈 Confidence Score: [0.01332632 0.02237578 0.9642979 ]\n",
      "📊 Rekomendasi Portofolio Berdasarkan Confidence Score (Total 100%):\n",
      "- Tabungan Emas: 6%\n",
      "- SBSN: 40%\n",
      "- RDPU Syariah: 30%\n",
      "- Deposito Syariah: 24%\n"
     ]
    }
   ],
   "source": [
    "# Mapping klaster ke profil risiko\n",
    "risk_profiles = {\n",
    "    0: \"Agresif\",\n",
    "    1: \"Moderat\",\n",
    "    2: \"Defensif\"\n",
    "}\n",
    "\n",
    "# Base model alokasi portofolio (persentase) untuk masing-masing profil\n",
    "base_allocations = { \n",
    "    \"Agresif\": {\n",
    "        \"Tabungan Emas\": 0.40,\n",
    "        \"SBSN\": 0.30,\n",
    "        \"RDPU Syariah\": 0.20,\n",
    "        \"Deposito Syariah\": 0.10\n",
    "    },\n",
    "    \"Moderat\": {\n",
    "        \"Tabungan Emas\": 0.25,\n",
    "        \"SBSN\": 0.35,\n",
    "        \"RDPU Syariah\": 0.25,\n",
    "        \"Deposito Syariah\": 0.15\n",
    "    },\n",
    "    \"Defensif\": {\n",
    "        \"Tabungan Emas\": 0.05,\n",
    "        \"SBSN\": 0.40,\n",
    "        \"RDPU Syariah\": 0.30,\n",
    "        \"Deposito Syariah\": 0.25\n",
    "    }\n",
    "}\n",
    "\n",
    "# Ambil probabilitas per kelas dari model\n",
    "proba_scores = np.array(proba).flatten()\n",
    "\n",
    "# Hitung total alokasi berbobot dari semua base model dikalikan proba\n",
    "final_allocation = {\n",
    "    \"Tabungan Emas\": 0.0,\n",
    "    \"SBSN\": 0.0,\n",
    "    \"RDPU Syariah\": 0.0,\n",
    "    \"Deposito Syariah\": 0.0\n",
    "}\n",
    "\n",
    "# Bobot: proba[0] = agresif, proba[1] = moderat, proba[2] = defensif\n",
    "for i, profile in enumerate([\"Agresif\", \"Moderat\", \"Defensif\"]):\n",
    "    for product in final_allocation:\n",
    "        final_allocation[product] += base_allocations[profile][product] * proba_scores[i]\n",
    "\n",
    "# Konversi ke persen (float)\n",
    "percent_values = {k: v * 100 for k, v in final_allocation.items()}\n",
    "\n",
    "# Simpan pembulatan ke bawah dan sisa desimal\n",
    "floored = {k: int(v) for k, v in percent_values.items()}\n",
    "remainders = {k: percent_values[k] - floored[k] for k in percent_values}\n",
    "\n",
    "# Hitung total awal dan selisih\n",
    "total_floored = sum(floored.values())\n",
    "diff = 100 - total_floored\n",
    "\n",
    "# Urutkan berdasarkan sisa desimal terbesar → tambahkan 1 ke elemen tersebut hingga total = 100\n",
    "sorted_remainders = sorted(remainders.items(), key=lambda x: x[1], reverse=True)\n",
    "\n",
    "# Tambahkan 1 ke elemen yang sisa desimalnya terbesar\n",
    "for i in range(diff):\n",
    "    floored[sorted_remainders[i][0]] += 1\n",
    "\n",
    "# Tampilkan hasil\n",
    "predicted_cluster = int(prediction[0])\n",
    "risk_profile = risk_profiles[predicted_cluster]\n",
    "\n",
    "print(f\"🎯 Prediksi Klaster: {predicted_cluster}\")\n",
    "print(f\"🧠 Profil Risiko Dominan: {risk_profile}\")\n",
    "print(f\"📈 Confidence Score: {proba_scores}\")\n",
    "print(\"📊 Rekomendasi Portofolio Berdasarkan Confidence Score (Total 100%):\")\n",
    "\n",
    "for product, percent in floored.items():\n",
    "    print(f\"- {product}: {percent}%\")"
   ]
  },
  {
   "cell_type": "code",
   "execution_count": null,
   "id": "25039940",
   "metadata": {},
   "outputs": [],
   "source": []
  }
 ],
 "metadata": {
  "kernelspec": {
   "display_name": "halalInA",
   "language": "python",
   "name": "python3"
  },
  "language_info": {
   "codemirror_mode": {
    "name": "ipython",
    "version": 3
   },
   "file_extension": ".py",
   "mimetype": "text/x-python",
   "name": "python",
   "nbconvert_exporter": "python",
   "pygments_lexer": "ipython3",
   "version": "3.11.11"
  }
 },
 "nbformat": 4,
 "nbformat_minor": 5
}
